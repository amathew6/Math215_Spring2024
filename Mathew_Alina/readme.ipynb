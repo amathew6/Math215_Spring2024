# Hi my name is Alina
